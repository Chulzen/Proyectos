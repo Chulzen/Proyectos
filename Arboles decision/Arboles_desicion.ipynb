{
 "cells": [
  {
   "cell_type": "markdown",
   "metadata": {},
   "source": [
    "Es sabido que, una entidad que presta servicios o productos (pudiera ser una empresa, un banco, una tienda, etcétera) puede mejorar la experiencia de cliente desarrollando productos personalizados en pos de las preferencias y necesidades de cada uno de sus clientes.\n",
    "\n",
    "El set de datos potencial contiene datos sobre clientes de una institución financiera:\n",
    "\n",
    "Customer ID: ID asociado al cliente.\n",
    "\n",
    "Age: Edad en años del cliente.\n",
    "\n",
    "Income: Ingreso anual del cliente.\n",
    "\n",
    "Family: Tamaño del grupo familiar del cliente.\n",
    "\n",
    "CCAvg: Cupo promedio mensual utilizado en tarjetas de crédito.\n",
    "\n",
    "Education: Nivel educacional (1 si no es graduado, 2 graduado y 3 si posee estudios especializadoss (magister, doctorado, etcétera).\n",
    "\n",
    "Mortgage: Monto de la hipoteca (0 indica que no posee)\n",
    "\n",
    "ZIP Code: Código postal del domicilio.\n",
    "\n",
    "En la última campaña a cada cliente se le ofreció un producto personalizado en base a su comportamiento financiero, preferencias, capacidad de pago y necesidades. La variable target corresponde a Personal Loan la cuál indica si el cliente tomó o no tomó este producto (¿El cliente aceptó o no el producto ofrecido? ), donde 0 indica que el cliente no adquirió el producto y 1 indica que sí lo adquirió.\n",
    "\n",
    "Es de interés analizar cuáles pudieran ser los perfiles de clientes que tienen mayor probabilidad de aceptar el producto ofrecido, de manera de, identificar a los clientes con dichas características y priorizarlos a ellos en las próximas campañas."
   ]
  },
  {
   "cell_type": "markdown",
   "metadata": {},
   "source": [
    "1. Cargue la base de datos potencial.xlsx usando el bloque de código adjunto. Elimine las variables ID y ZIP Code, pues no es razonable obtener aprendizaje desde estas variables. Finalmente indique la cantidad de datos faltantes por variable a través de un gráfico de barras."
   ]
  },
  {
   "cell_type": "code",
   "execution_count": 1,
   "metadata": {},
   "outputs": [],
   "source": [
    "import pandas as pd\n",
    "import matplotlib.pyplot as plt\n",
    "import seaborn as sns\n",
    "import numpy as np\n",
    "\n",
    "# Opciones para evitar notación científica\n",
    "np.set_printoptions(suppress=True)\n",
    "pd.set_option('display.float_format', lambda x: f\"{x:0.5f}\")\n",
    "\n",
    "# Configuración de los gráficos\n",
    "plt.style.use(\"ggplot\")\n",
    "%config InlineBackend.figure_format = \"retina\"\n"
   ]
  },
  {
   "cell_type": "code",
   "execution_count": 3,
   "metadata": {},
   "outputs": [
    {
     "data": {
      "text/html": [
       "<div>\n",
       "<style scoped>\n",
       "    .dataframe tbody tr th:only-of-type {\n",
       "        vertical-align: middle;\n",
       "    }\n",
       "\n",
       "    .dataframe tbody tr th {\n",
       "        vertical-align: top;\n",
       "    }\n",
       "\n",
       "    .dataframe thead th {\n",
       "        text-align: right;\n",
       "    }\n",
       "</style>\n",
       "<table border=\"1\" class=\"dataframe\">\n",
       "  <thead>\n",
       "    <tr style=\"text-align: right;\">\n",
       "      <th></th>\n",
       "      <th>ID</th>\n",
       "      <th>Age</th>\n",
       "      <th>Income</th>\n",
       "      <th>ZIP Code</th>\n",
       "      <th>Family</th>\n",
       "      <th>CCAvg</th>\n",
       "      <th>Education</th>\n",
       "      <th>Mortgage</th>\n",
       "      <th>Personal Loan</th>\n",
       "    </tr>\n",
       "  </thead>\n",
       "  <tbody>\n",
       "    <tr>\n",
       "      <th>0</th>\n",
       "      <td>1</td>\n",
       "      <td>25.00000</td>\n",
       "      <td>49.00000</td>\n",
       "      <td>91107</td>\n",
       "      <td>4</td>\n",
       "      <td>1.60000</td>\n",
       "      <td>Undergraduate</td>\n",
       "      <td>0</td>\n",
       "      <td>0</td>\n",
       "    </tr>\n",
       "    <tr>\n",
       "      <th>1</th>\n",
       "      <td>2</td>\n",
       "      <td>45.00000</td>\n",
       "      <td>34.00000</td>\n",
       "      <td>90089</td>\n",
       "      <td>3</td>\n",
       "      <td>1.50000</td>\n",
       "      <td>Undergraduate</td>\n",
       "      <td>0</td>\n",
       "      <td>0</td>\n",
       "    </tr>\n",
       "    <tr>\n",
       "      <th>2</th>\n",
       "      <td>3</td>\n",
       "      <td>39.00000</td>\n",
       "      <td>11.00000</td>\n",
       "      <td>94720</td>\n",
       "      <td>1</td>\n",
       "      <td>1.00000</td>\n",
       "      <td>Undergraduate</td>\n",
       "      <td>0</td>\n",
       "      <td>0</td>\n",
       "    </tr>\n",
       "    <tr>\n",
       "      <th>3</th>\n",
       "      <td>4</td>\n",
       "      <td>35.00000</td>\n",
       "      <td>100.00000</td>\n",
       "      <td>94112</td>\n",
       "      <td>1</td>\n",
       "      <td>2.70000</td>\n",
       "      <td>Graduate</td>\n",
       "      <td>0</td>\n",
       "      <td>0</td>\n",
       "    </tr>\n",
       "    <tr>\n",
       "      <th>4</th>\n",
       "      <td>5</td>\n",
       "      <td>35.00000</td>\n",
       "      <td>45.00000</td>\n",
       "      <td>91330</td>\n",
       "      <td>4</td>\n",
       "      <td>1.00000</td>\n",
       "      <td>Graduate</td>\n",
       "      <td>0</td>\n",
       "      <td>0</td>\n",
       "    </tr>\n",
       "  </tbody>\n",
       "</table>\n",
       "</div>"
      ],
      "text/plain": [
       "   ID      Age    Income  ZIP Code  Family   CCAvg      Education  Mortgage  \\\n",
       "0   1 25.00000  49.00000     91107       4 1.60000  Undergraduate         0   \n",
       "1   2 45.00000  34.00000     90089       3 1.50000  Undergraduate         0   \n",
       "2   3 39.00000  11.00000     94720       1 1.00000  Undergraduate         0   \n",
       "3   4 35.00000 100.00000     94112       1 2.70000       Graduate         0   \n",
       "4   5 35.00000  45.00000     91330       4 1.00000       Graduate         0   \n",
       "\n",
       "   Personal Loan  \n",
       "0              0  \n",
       "1              0  \n",
       "2              0  \n",
       "3              0  \n",
       "4              0  "
      ]
     },
     "execution_count": 3,
     "metadata": {},
     "output_type": "execute_result"
    }
   ],
   "source": [
    "df_potencial_og= pd.read_excel(\"potencial (1).xlsx\")\n",
    "\n",
    "df_potencial_og.head()"
   ]
  },
  {
   "cell_type": "code",
   "execution_count": 4,
   "metadata": {},
   "outputs": [
    {
     "data": {
      "text/html": [
       "<div>\n",
       "<style scoped>\n",
       "    .dataframe tbody tr th:only-of-type {\n",
       "        vertical-align: middle;\n",
       "    }\n",
       "\n",
       "    .dataframe tbody tr th {\n",
       "        vertical-align: top;\n",
       "    }\n",
       "\n",
       "    .dataframe thead th {\n",
       "        text-align: right;\n",
       "    }\n",
       "</style>\n",
       "<table border=\"1\" class=\"dataframe\">\n",
       "  <thead>\n",
       "    <tr style=\"text-align: right;\">\n",
       "      <th></th>\n",
       "      <th>Age</th>\n",
       "      <th>Income</th>\n",
       "      <th>Family</th>\n",
       "      <th>CCAvg</th>\n",
       "      <th>Education</th>\n",
       "      <th>Mortgage</th>\n",
       "      <th>Personal Loan</th>\n",
       "    </tr>\n",
       "  </thead>\n",
       "  <tbody>\n",
       "    <tr>\n",
       "      <th>0</th>\n",
       "      <td>25.00000</td>\n",
       "      <td>49.00000</td>\n",
       "      <td>4</td>\n",
       "      <td>1.60000</td>\n",
       "      <td>Undergraduate</td>\n",
       "      <td>0</td>\n",
       "      <td>0</td>\n",
       "    </tr>\n",
       "    <tr>\n",
       "      <th>1</th>\n",
       "      <td>45.00000</td>\n",
       "      <td>34.00000</td>\n",
       "      <td>3</td>\n",
       "      <td>1.50000</td>\n",
       "      <td>Undergraduate</td>\n",
       "      <td>0</td>\n",
       "      <td>0</td>\n",
       "    </tr>\n",
       "    <tr>\n",
       "      <th>2</th>\n",
       "      <td>39.00000</td>\n",
       "      <td>11.00000</td>\n",
       "      <td>1</td>\n",
       "      <td>1.00000</td>\n",
       "      <td>Undergraduate</td>\n",
       "      <td>0</td>\n",
       "      <td>0</td>\n",
       "    </tr>\n",
       "    <tr>\n",
       "      <th>3</th>\n",
       "      <td>35.00000</td>\n",
       "      <td>100.00000</td>\n",
       "      <td>1</td>\n",
       "      <td>2.70000</td>\n",
       "      <td>Graduate</td>\n",
       "      <td>0</td>\n",
       "      <td>0</td>\n",
       "    </tr>\n",
       "    <tr>\n",
       "      <th>4</th>\n",
       "      <td>35.00000</td>\n",
       "      <td>45.00000</td>\n",
       "      <td>4</td>\n",
       "      <td>1.00000</td>\n",
       "      <td>Graduate</td>\n",
       "      <td>0</td>\n",
       "      <td>0</td>\n",
       "    </tr>\n",
       "  </tbody>\n",
       "</table>\n",
       "</div>"
      ],
      "text/plain": [
       "       Age    Income  Family   CCAvg      Education  Mortgage  Personal Loan\n",
       "0 25.00000  49.00000       4 1.60000  Undergraduate         0              0\n",
       "1 45.00000  34.00000       3 1.50000  Undergraduate         0              0\n",
       "2 39.00000  11.00000       1 1.00000  Undergraduate         0              0\n",
       "3 35.00000 100.00000       1 2.70000       Graduate         0              0\n",
       "4 35.00000  45.00000       4 1.00000       Graduate         0              0"
      ]
     },
     "execution_count": 4,
     "metadata": {},
     "output_type": "execute_result"
    }
   ],
   "source": [
    "#procedemos aeliminar las variable Id y ZIP Code\n",
    "\n",
    "df_potencial=df_potencial_og.drop(columns=['ID', 'ZIP Code'], axis=1)\n",
    "\n",
    "df_potencial.head()"
   ]
  },
  {
   "cell_type": "code",
   "execution_count": 5,
   "metadata": {},
   "outputs": [
    {
     "data": {
      "text/plain": [
       "Age              390\n",
       "Income           100\n",
       "Family             0\n",
       "CCAvg              0\n",
       "Education          0\n",
       "Mortgage           0\n",
       "Personal Loan      0\n",
       "dtype: int64"
      ]
     },
     "metadata": {},
     "output_type": "display_data"
    }
   ],
   "source": [
    "#procedemos a saber la cantidad de datas valtanttes\n",
    "\n",
    "datos_faltantes=df_potencial.isnull().sum()\n",
    "display(datos_faltantes)"
   ]
  },
  {
   "cell_type": "code",
   "execution_count": 6,
   "metadata": {},
   "outputs": [
    {
     "data": {
      "image/png": "[encoded data removed]",
      "text/plain": [
       "<Figure size 640x480 with 1 Axes>"
      ]
     },
     "metadata": {
      "image/png": {
       "height": 542,
       "width": 574
      }
     },
     "output_type": "display_data"
    }
   ],
   "source": [
    "#procdemos a desarrollar el grafico de barras\n",
    "\n",
    "# Crear el gráfico de barras\n",
    "datos_faltantes.plot(kind='bar')\n",
    "# Agregar etiquetas a los ejes\n",
    "plt.xlabel('Nombre datos')\n",
    "plt.ylabel('Cantidad de Elementos')\n",
    "plt.title('Gráfico de Barras elementos faltantes')\n",
    "\n",
    "# Mostrar el gráfico\n",
    "plt.show()"
   ]
  },
  {
   "cell_type": "markdown",
   "metadata": {},
   "source": [
    "2. Muestre cuantos datos hay por cada etiqueta de la variable respuesta ¿Qué aspectos destacan?"
   ]
  },
  {
   "cell_type": "code",
   "execution_count": 7,
   "metadata": {},
   "outputs": [
    {
     "data": {
      "text/plain": [
       "0    4520\n",
       "1     480\n",
       "Name: Personal Loan, dtype: int64"
      ]
     },
     "metadata": {},
     "output_type": "display_data"
    }
   ],
   "source": [
    "\n",
    "\n",
    "# Supongamos que df es tu DataFrame y target es tu variable objetivo\n",
    "conteo_etiquetas=df_potencial['Personal Loan'].value_counts()\n",
    "\n",
    "# Esto te dará una Serie de pandas con las etiquetas y la cantidad de ocurrencias\n",
    "display(conteo_etiquetas)\n"
   ]
  },
  {
   "cell_type": "markdown",
   "metadata": {},
   "source": [
    "Se puede ver que las la cantidad de variables esta desequilibrada, ya que hay una gran cantidad de personas que no tienen un prestamos personal, vs las que si tienen que corresponden a tan solo 480."
   ]
  },
  {
   "cell_type": "markdown",
   "metadata": {},
   "source": [
    "\n",
    "2. Separe aleatoriamente sus datos en 70% de entrenamiento y el resto para testeo."
   ]
  },
  {
   "cell_type": "code",
   "execution_count": 8,
   "metadata": {},
   "outputs": [],
   "source": [
    "from sklearn.model_selection import train_test_split\n",
    "\n",
    "# Supongamos que tienes un DataFrame llamado 'df' con tus datos y una columna 'target' que es tu variable objetivo.\n",
    "x = df_potencial.drop('Personal Loan', axis=1)  # Características\n",
    "y = df_potencial['Personal Loan']  # Variable objetivo\n",
    "\n",
    "# Divide el conjunto de datos en conjuntos de entrenamiento y prueba (por ejemplo, 70% entrenamiento, 30% prueba)\n",
    "x_train, x_test, y_train, y_test = train_test_split(x, y, test_size=0.3, random_state=2023)\n",
    "\n",
    "# Ahora X_train y y_train son tus conjuntos de entrenamiento, y X_test y y_test son tus conjuntos de prueba.\n",
    "\n"
   ]
  },
  {
   "cell_type": "markdown",
   "metadata": {},
   "source": [
    "3. Indique el tipo de variable de sus predictores. Cree la lista cat_vars con el nombre de sus variables categóricas."
   ]
  },
  {
   "cell_type": "code",
   "execution_count": 9,
   "metadata": {},
   "outputs": [
    {
     "name": "stdout",
     "output_type": "stream",
     "text": [
      "<class 'pandas.core.frame.DataFrame'>\n",
      "Int64Index: 3500 entries, 1359 to 4951\n",
      "Data columns (total 6 columns):\n",
      " #   Column     Non-Null Count  Dtype  \n",
      "---  ------     --------------  -----  \n",
      " 0   Age        3230 non-null   float64\n",
      " 1   Income     3426 non-null   float64\n",
      " 2   Family     3500 non-null   int64  \n",
      " 3   CCAvg      3500 non-null   float64\n",
      " 4   Education  3500 non-null   object \n",
      " 5   Mortgage   3500 non-null   int64  \n",
      "dtypes: float64(3), int64(2), object(1)\n",
      "memory usage: 191.4+ KB\n",
      "Index(['Education'], dtype='object')\n"
     ]
    }
   ],
   "source": [
    "x_train.info()\n",
    "                                \n",
    "cat_vars = x_train.columns[x_train.dtypes == \"object\"]\n",
    "num_var = x_train.columns[x_train.dtypes != \"object\"]\n",
    "\n",
    "print(cat_vars)"
   ]
  },
  {
   "cell_type": "markdown",
   "metadata": {},
   "source": [
    "4. Instancie las clases OneHotEncoder e IterativeImputer sin entregarle argumentos."
   ]
  },
  {
   "cell_type": "code",
   "execution_count": 10,
   "metadata": {},
   "outputs": [],
   "source": [
    "from sklearn.compose import make_column_transformer\n",
    "from sklearn.preprocessing import OneHotEncoder, StandardScaler\n",
    "from sklearn.experimental import enable_iterative_imputer\n",
    "from sklearn.impute import IterativeImputer\n",
    "\n",
    "# Primero instanciamos las clases\n",
    "one_hot = OneHotEncoder()\n",
    "scaler  = StandardScaler()\n",
    "imputer = IterativeImputer()"
   ]
  },
  {
   "cell_type": "markdown",
   "metadata": {},
   "source": [
    "5. Cree un transformer que realize variables dummy con las variables categóricas e impute los datos faltantes de las variables numéricas. Específicamente esto último puede llevarlo a cabo entregando la instancia para imputar datos del ejercicio anterior al parámetro remainder."
   ]
  },
  {
   "cell_type": "code",
   "execution_count": 11,
   "metadata": {},
   "outputs": [
    {
     "data": {
      "text/html": [
       "<style>#sk-container-id-1 {color: black;}#sk-container-id-1 pre{padding: 0;}#sk-container-id-1 div.sk-toggleable {background-color: white;}#sk-container-id-1 label.sk-toggleable__label {cursor: pointer;display: block;width: 100%;margin-bottom: 0;padding: 0.3em;box-sizing: border-box;text-align: center;}#sk-container-id-1 label.sk-toggleable__label-arrow:before {content: \"▸\";float: left;margin-right: 0.25em;color: #696969;}#sk-container-id-1 label.sk-toggleable__label-arrow:hover:before {color: black;}#sk-container-id-1 div.sk-estimator:hover label.sk-toggleable__label-arrow:before {color: black;}#sk-container-id-1 div.sk-toggleable__content {max-height: 0;max-width: 0;overflow: hidden;text-align: left;background-color: #f0f8ff;}#sk-container-id-1 div.sk-toggleable__content pre {margin: 0.2em;color: black;border-radius: 0.25em;background-color: #f0f8ff;}#sk-container-id-1 input.sk-toggleable__control:checked~div.sk-toggleable__content {max-height: 200px;max-width: 100%;overflow: auto;}#sk-container-id-1 input.sk-toggleable__control:checked~label.sk-toggleable__label-arrow:before {content: \"▾\";}#sk-container-id-1 div.sk-estimator input.sk-toggleable__control:checked~label.sk-toggleable__label {background-color: #d4ebff;}#sk-container-id-1 div.sk-label input.sk-toggleable__control:checked~label.sk-toggleable__label {background-color: #d4ebff;}#sk-container-id-1 input.sk-hidden--visually {border: 0;clip: rect(1px 1px 1px 1px);clip: rect(1px, 1px, 1px, 1px);height: 1px;margin: -1px;overflow: hidden;padding: 0;position: absolute;width: 1px;}#sk-container-id-1 div.sk-estimator {font-family: monospace;background-color: #f0f8ff;border: 1px dotted black;border-radius: 0.25em;box-sizing: border-box;margin-bottom: 0.5em;}#sk-container-id-1 div.sk-estimator:hover {background-color: #d4ebff;}#sk-container-id-1 div.sk-parallel-item::after {content: \"\";width: 100%;border-bottom: 1px solid gray;flex-grow: 1;}#sk-container-id-1 div.sk-label:hover label.sk-toggleable__label {background-color: #d4ebff;}#sk-container-id-1 div.sk-serial::before {content: \"\";position: absolute;border-left: 1px solid gray;box-sizing: border-box;top: 0;bottom: 0;left: 50%;z-index: 0;}#sk-container-id-1 div.sk-serial {display: flex;flex-direction: column;align-items: center;background-color: white;padding-right: 0.2em;padding-left: 0.2em;position: relative;}#sk-container-id-1 div.sk-item {position: relative;z-index: 1;}#sk-container-id-1 div.sk-parallel {display: flex;align-items: stretch;justify-content: center;background-color: white;position: relative;}#sk-container-id-1 div.sk-item::before, #sk-container-id-1 div.sk-parallel-item::before {content: \"\";position: absolute;border-left: 1px solid gray;box-sizing: border-box;top: 0;bottom: 0;left: 50%;z-index: -1;}#sk-container-id-1 div.sk-parallel-item {display: flex;flex-direction: column;z-index: 1;position: relative;background-color: white;}#sk-container-id-1 div.sk-parallel-item:first-child::after {align-self: flex-end;width: 50%;}#sk-container-id-1 div.sk-parallel-item:last-child::after {align-self: flex-start;width: 50%;}#sk-container-id-1 div.sk-parallel-item:only-child::after {width: 0;}#sk-container-id-1 div.sk-dashed-wrapped {border: 1px dashed gray;margin: 0 0.4em 0.5em 0.4em;box-sizing: border-box;padding-bottom: 0.4em;background-color: white;}#sk-container-id-1 div.sk-label label {font-family: monospace;font-weight: bold;display: inline-block;line-height: 1.2em;}#sk-container-id-1 div.sk-label-container {text-align: center;}#sk-container-id-1 div.sk-container {/* jupyter's `normalize.less` sets `[hidden] { display: none; }` but bootstrap.min.css set `[hidden] { display: none !important; }` so we also need the `!important` here to be able to override the default hidden behavior on the sphinx rendered scikit-learn.org. See: https://github.com/scikit-learn/scikit-learn/issues/21755 */display: inline-block !important;position: relative;}#sk-container-id-1 div.sk-text-repr-fallback {display: none;}</style><div id=\"sk-container-id-1\" class=\"sk-top-container\"><div class=\"sk-text-repr-fallback\"><pre>ColumnTransformer(remainder=&#x27;passthrough&#x27;,\n",
       "                  transformers=[(&#x27;onehotencoder&#x27;, OneHotEncoder(),\n",
       "                                 Index([&#x27;Education&#x27;], dtype=&#x27;object&#x27;)),\n",
       "                                (&#x27;iterativeimputer&#x27;, IterativeImputer(),\n",
       "                                 Index([&#x27;Age&#x27;, &#x27;Income&#x27;, &#x27;Family&#x27;, &#x27;CCAvg&#x27;, &#x27;Mortgage&#x27;], dtype=&#x27;object&#x27;))],\n",
       "                  verbose_feature_names_out=False)</pre><b>In a Jupyter environment, please rerun this cell to show the HTML representation or trust the notebook. <br />On GitHub, the HTML representation is unable to render, please try loading this page with nbviewer.org.</b></div><div class=\"sk-container\" hidden><div class=\"sk-item sk-dashed-wrapped\"><div class=\"sk-label-container\"><div class=\"sk-label sk-toggleable\"><input class=\"sk-toggleable__control sk-hidden--visually\" id=\"sk-estimator-id-1\" type=\"checkbox\" ><label for=\"sk-estimator-id-1\" class=\"sk-toggleable__label sk-toggleable__label-arrow\">ColumnTransformer</label><div class=\"sk-toggleable__content\"><pre>ColumnTransformer(remainder=&#x27;passthrough&#x27;,\n",
       "                  transformers=[(&#x27;onehotencoder&#x27;, OneHotEncoder(),\n",
       "                                 Index([&#x27;Education&#x27;], dtype=&#x27;object&#x27;)),\n",
       "                                (&#x27;iterativeimputer&#x27;, IterativeImputer(),\n",
       "                                 Index([&#x27;Age&#x27;, &#x27;Income&#x27;, &#x27;Family&#x27;, &#x27;CCAvg&#x27;, &#x27;Mortgage&#x27;], dtype=&#x27;object&#x27;))],\n",
       "                  verbose_feature_names_out=False)</pre></div></div></div><div class=\"sk-parallel\"><div class=\"sk-parallel-item\"><div class=\"sk-item\"><div class=\"sk-label-container\"><div class=\"sk-label sk-toggleable\"><input class=\"sk-toggleable__control sk-hidden--visually\" id=\"sk-estimator-id-2\" type=\"checkbox\" ><label for=\"sk-estimator-id-2\" class=\"sk-toggleable__label sk-toggleable__label-arrow\">onehotencoder</label><div class=\"sk-toggleable__content\"><pre>Index([&#x27;Education&#x27;], dtype=&#x27;object&#x27;)</pre></div></div></div><div class=\"sk-serial\"><div class=\"sk-item\"><div class=\"sk-estimator sk-toggleable\"><input class=\"sk-toggleable__control sk-hidden--visually\" id=\"sk-estimator-id-3\" type=\"checkbox\" ><label for=\"sk-estimator-id-3\" class=\"sk-toggleable__label sk-toggleable__label-arrow\">OneHotEncoder</label><div class=\"sk-toggleable__content\"><pre>OneHotEncoder()</pre></div></div></div></div></div></div><div class=\"sk-parallel-item\"><div class=\"sk-item\"><div class=\"sk-label-container\"><div class=\"sk-label sk-toggleable\"><input class=\"sk-toggleable__control sk-hidden--visually\" id=\"sk-estimator-id-4\" type=\"checkbox\" ><label for=\"sk-estimator-id-4\" class=\"sk-toggleable__label sk-toggleable__label-arrow\">iterativeimputer</label><div class=\"sk-toggleable__content\"><pre>Index([&#x27;Age&#x27;, &#x27;Income&#x27;, &#x27;Family&#x27;, &#x27;CCAvg&#x27;, &#x27;Mortgage&#x27;], dtype=&#x27;object&#x27;)</pre></div></div></div><div class=\"sk-serial\"><div class=\"sk-item\"><div class=\"sk-estimator sk-toggleable\"><input class=\"sk-toggleable__control sk-hidden--visually\" id=\"sk-estimator-id-5\" type=\"checkbox\" ><label for=\"sk-estimator-id-5\" class=\"sk-toggleable__label sk-toggleable__label-arrow\">IterativeImputer</label><div class=\"sk-toggleable__content\"><pre>IterativeImputer()</pre></div></div></div></div></div></div><div class=\"sk-parallel-item\"><div class=\"sk-item\"><div class=\"sk-label-container\"><div class=\"sk-label sk-toggleable\"><input class=\"sk-toggleable__control sk-hidden--visually\" id=\"sk-estimator-id-6\" type=\"checkbox\" ><label for=\"sk-estimator-id-6\" class=\"sk-toggleable__label sk-toggleable__label-arrow\">remainder</label><div class=\"sk-toggleable__content\"><pre>[]</pre></div></div></div><div class=\"sk-serial\"><div class=\"sk-item\"><div class=\"sk-estimator sk-toggleable\"><input class=\"sk-toggleable__control sk-hidden--visually\" id=\"sk-estimator-id-7\" type=\"checkbox\" ><label for=\"sk-estimator-id-7\" class=\"sk-toggleable__label sk-toggleable__label-arrow\">passthrough</label><div class=\"sk-toggleable__content\"><pre>passthrough</pre></div></div></div></div></div></div></div></div></div></div>"
      ],
      "text/plain": [
       "ColumnTransformer(remainder='passthrough',\n",
       "                  transformers=[('onehotencoder', OneHotEncoder(),\n",
       "                                 Index(['Education'], dtype='object')),\n",
       "                                ('iterativeimputer', IterativeImputer(),\n",
       "                                 Index(['Age', 'Income', 'Family', 'CCAvg', 'Mortgage'], dtype='object'))],\n",
       "                  verbose_feature_names_out=False)"
      ]
     },
     "execution_count": 11,
     "metadata": {},
     "output_type": "execute_result"
    }
   ],
   "source": [
    "transformer = make_column_transformer(\n",
    "    (one_hot,cat_vars),\n",
    "    (imputer, num_var),\n",
    "    remainder='passthrough',\n",
    "    verbose_feature_names_out=False\n",
    ")\n",
    "\n",
    "transformer.fit(x_train)"
   ]
  },
  {
   "cell_type": "markdown",
   "metadata": {},
   "source": []
  },
  {
   "cell_type": "code",
   "execution_count": 12,
   "metadata": {},
   "outputs": [
    {
     "data": {
      "text/plain": [
       "array(['Education_Graduate', 'Education_Postgraduate',\n",
       "       'Education_Undergraduate', 'Age', 'Income', 'Family', 'CCAvg',\n",
       "       'Mortgage'], dtype=object)"
      ]
     },
     "execution_count": 12,
     "metadata": {},
     "output_type": "execute_result"
    }
   ],
   "source": [
    "transformer.get_feature_names_out()"
   ]
  },
  {
   "cell_type": "code",
   "execution_count": 13,
   "metadata": {},
   "outputs": [
    {
     "data": {
      "text/html": [
       "<div>\n",
       "<style scoped>\n",
       "    .dataframe tbody tr th:only-of-type {\n",
       "        vertical-align: middle;\n",
       "    }\n",
       "\n",
       "    .dataframe tbody tr th {\n",
       "        vertical-align: top;\n",
       "    }\n",
       "\n",
       "    .dataframe thead th {\n",
       "        text-align: right;\n",
       "    }\n",
       "</style>\n",
       "<table border=\"1\" class=\"dataframe\">\n",
       "  <thead>\n",
       "    <tr style=\"text-align: right;\">\n",
       "      <th></th>\n",
       "      <th>Education_Graduate</th>\n",
       "      <th>Education_Postgraduate</th>\n",
       "      <th>Education_Undergraduate</th>\n",
       "      <th>Age</th>\n",
       "      <th>Income</th>\n",
       "      <th>Family</th>\n",
       "      <th>CCAvg</th>\n",
       "      <th>Mortgage</th>\n",
       "    </tr>\n",
       "  </thead>\n",
       "  <tbody>\n",
       "    <tr>\n",
       "      <th>0</th>\n",
       "      <td>1.00000</td>\n",
       "      <td>0.00000</td>\n",
       "      <td>0.00000</td>\n",
       "      <td>51.00000</td>\n",
       "      <td>68.00000</td>\n",
       "      <td>1.00000</td>\n",
       "      <td>1.50000</td>\n",
       "      <td>0.00000</td>\n",
       "    </tr>\n",
       "    <tr>\n",
       "      <th>1</th>\n",
       "      <td>1.00000</td>\n",
       "      <td>0.00000</td>\n",
       "      <td>0.00000</td>\n",
       "      <td>29.00000</td>\n",
       "      <td>113.00000</td>\n",
       "      <td>2.00000</td>\n",
       "      <td>2.00000</td>\n",
       "      <td>84.00000</td>\n",
       "    </tr>\n",
       "    <tr>\n",
       "      <th>2</th>\n",
       "      <td>0.00000</td>\n",
       "      <td>0.00000</td>\n",
       "      <td>1.00000</td>\n",
       "      <td>27.00000</td>\n",
       "      <td>88.00000</td>\n",
       "      <td>3.00000</td>\n",
       "      <td>0.80000</td>\n",
       "      <td>238.00000</td>\n",
       "    </tr>\n",
       "    <tr>\n",
       "      <th>3</th>\n",
       "      <td>0.00000</td>\n",
       "      <td>1.00000</td>\n",
       "      <td>0.00000</td>\n",
       "      <td>57.00000</td>\n",
       "      <td>42.00000</td>\n",
       "      <td>2.00000</td>\n",
       "      <td>2.10000</td>\n",
       "      <td>0.00000</td>\n",
       "    </tr>\n",
       "    <tr>\n",
       "      <th>4</th>\n",
       "      <td>0.00000</td>\n",
       "      <td>1.00000</td>\n",
       "      <td>0.00000</td>\n",
       "      <td>64.00000</td>\n",
       "      <td>18.00000</td>\n",
       "      <td>2.00000</td>\n",
       "      <td>0.30000</td>\n",
       "      <td>0.00000</td>\n",
       "    </tr>\n",
       "  </tbody>\n",
       "</table>\n",
       "</div>"
      ],
      "text/plain": [
       "   Education_Graduate  Education_Postgraduate  Education_Undergraduate  \\\n",
       "0             1.00000                 0.00000                  0.00000   \n",
       "1             1.00000                 0.00000                  0.00000   \n",
       "2             0.00000                 0.00000                  1.00000   \n",
       "3             0.00000                 1.00000                  0.00000   \n",
       "4             0.00000                 1.00000                  0.00000   \n",
       "\n",
       "       Age    Income  Family   CCAvg  Mortgage  \n",
       "0 51.00000  68.00000 1.00000 1.50000   0.00000  \n",
       "1 29.00000 113.00000 2.00000 2.00000  84.00000  \n",
       "2 27.00000  88.00000 3.00000 0.80000 238.00000  \n",
       "3 57.00000  42.00000 2.00000 2.10000   0.00000  \n",
       "4 64.00000  18.00000 2.00000 0.30000   0.00000  "
      ]
     },
     "execution_count": 13,
     "metadata": {},
     "output_type": "execute_result"
    }
   ],
   "source": [
    "#procdemos a prepara los dato para poder entregarselos al modelos\n",
    "x_train_prep = pd.DataFrame(\n",
    "    data=transformer.transform(x_train),\n",
    "    columns=transformer.get_feature_names_out()\n",
    ")\n",
    "\n",
    "x_test_prep = pd.DataFrame(\n",
    "    data=transformer.transform(x_test),\n",
    "    columns= transformer.get_feature_names_out()\n",
    ")\n",
    "\n",
    "x_train_prep.head()\n",
    "x_test_prep.head()\n"
   ]
  },
  {
   "cell_type": "code",
   "execution_count": 15,
   "metadata": {},
   "outputs": [
    {
     "data": {
      "text/plain": [
       "Education_Graduate         0\n",
       "Education_Postgraduate     0\n",
       "Education_Undergraduate    0\n",
       "Age                        0\n",
       "Income                     0\n",
       "Family                     0\n",
       "CCAvg                      0\n",
       "Mortgage                   0\n",
       "dtype: int64"
      ]
     },
     "execution_count": 15,
     "metadata": {},
     "output_type": "execute_result"
    }
   ],
   "source": [
    "#revisamos que no el transfomer halla rellenado los datos efaltantes\n",
    "x_train_prep.isnull().sum()"
   ]
  },
  {
   "cell_type": "code",
   "execution_count": 16,
   "metadata": {},
   "outputs": [
    {
     "data": {
      "text/plain": [
       "Education_Graduate         0\n",
       "Education_Postgraduate     0\n",
       "Education_Undergraduate    0\n",
       "Age                        0\n",
       "Income                     0\n",
       "Family                     0\n",
       "CCAvg                      0\n",
       "Mortgage                   0\n",
       "dtype: int64"
      ]
     },
     "execution_count": 16,
     "metadata": {},
     "output_type": "execute_result"
    }
   ],
   "source": [
    "x_test_prep.isnull().sum()"
   ]
  },
  {
   "cell_type": "markdown",
   "metadata": {},
   "source": [
    "6. Instancie las clases DecisionTreeClassifier y RandomForestClassifier desde los módulos tree y ensemble de sklearn respectivamente. En ambos modelos indique los siguientes parámetros:\n",
    "\n",
    "max_depth=10: Para que los árboles tengan profundidad máxima de 10.\n",
    "\n",
    "criterion=\"entropy\": Para usar entropía como criterio.\n",
    "\n",
    "class_weight=\"balanced\": Para ponderar cada observación. Es una forma de lidiar con el desbalanceo de datos, ya que asigna mayor peso a las categorías de la variable respuesta con menor volumen de datos.\n",
    "\n",
    "random_state=2022: Para reproducibilidad.\n",
    "\n",
    "Finalmente eree pipelines que consideren el transformer creado en el ejercicio anterior y cada uno de estos modelos."
   ]
  },
  {
   "cell_type": "code",
   "execution_count": 23,
   "metadata": {},
   "outputs": [],
   "source": [
    "from sklearn.tree import DecisionTreeClassifier\n",
    "from sklearn.ensemble import RandomForestClassifier #RandomForestregression\n",
    "from sklearn.pipeline import make_pipeline\n",
    "\n",
    "arbol_dsicion = DecisionTreeClassifier(\n",
    "    max_depth=10,\n",
    "    criterion=\"entropy\",\n",
    "    class_weight=\"balanced\",\n",
    "    random_state=2022,\n",
    "\n",
    ")\n",
    "\n",
    "random_forest = RandomForestClassifier(\n",
    "    max_depth=10,\n",
    "    criterion=\"entropy\",\n",
    "    class_weight=\"balanced\",\n",
    "    random_state=2022,\n",
    "\n",
    ")\n",
    "\n",
    "pipeline_arbol_decision= make_pipeline(transformer, arbol_dsicion)\n",
    "pipeline_random_forest= make_pipeline(transformer, random_forest)"
   ]
  },
  {
   "cell_type": "markdown",
   "metadata": {},
   "source": [
    "7. Entrene ambos modelos con datos de entrenamiento y después comente comparativamente el F1 en el set de testeo, para el árbol de decisión puede usar un código similar al siguiente para graficarlo:"
   ]
  },
  {
   "cell_type": "code",
   "execution_count": 29,
   "metadata": {},
   "outputs": [
    {
     "data": {
      "text/plain": [
       "[Text(0.5, 0.875, 'Income <= 92.561\\nentropy = 1.0\\nsamples = 3500\\nvalue = [1750.0, 1750.0]\\nclass = Adquiere producto'),\n",
       " Text(0.25, 0.625, 'CCAvg <= 2.95\\nentropy = 0.341\\nsamples = 2565\\nvalue = [1406.073, 95.455]\\nclass = Adquiere producto'),\n",
       " Text(0.125, 0.375, 'Age <= 26.5\\nentropy = 0.037\\nsamples = 2445\\nvalue = [1349.211, 5.303]\\nclass = Adquiere producto'),\n",
       " Text(0.0625, 0.125, '\\n  (...)  \\n'),\n",
       " Text(0.1875, 0.125, '\\n  (...)  \\n'),\n",
       " Text(0.375, 0.375, 'CCAvg <= 4.35\\nentropy = 0.963\\nsamples = 120\\nvalue = [56.861, 90.152]\\nclass = No adquiere producto'),\n",
       " Text(0.3125, 0.125, '\\n  (...)  \\n'),\n",
       " Text(0.4375, 0.125, '\\n  (...)  \\n'),\n",
       " Text(0.75, 0.625, 'Education_Undergraduate <= 0.5\\nentropy = 0.662\\nsamples = 935\\nvalue = [343.927, 1654.545]\\nclass = No adquiere producto'),\n",
       " Text(0.625, 0.375, 'Income <= 116.5\\nentropy = 0.269\\nsamples = 370\\nvalue = [64.59, 1341.667]\\nclass = No adquiere producto'),\n",
       " Text(0.5625, 0.125, '\\n  (...)  \\n'),\n",
       " Text(0.6875, 0.125, '\\n  (...)  \\n'),\n",
       " Text(0.875, 0.375, 'Family <= 2.5\\nentropy = 0.998\\nsamples = 565\\nvalue = [279.338, 312.879]\\nclass = No adquiere producto'),\n",
       " Text(0.8125, 0.125, '\\n  (...)  \\n'),\n",
       " Text(0.9375, 0.125, '\\n  (...)  \\n')]"
      ]
     },
     "execution_count": 29,
     "metadata": {},
     "output_type": "execute_result"
    },
    {
     "data": {
      "image/png": "[encoded data removed]",
      "text/plain": [
       "<Figure size 640x480 with 1 Axes>"
      ]
     },
     "metadata": {
      "image/png": {
       "height": 389,
       "width": 515
      }
     },
     "output_type": "display_data"
    }
   ],
   "source": [
    "from sklearn.compose import make_column_transformer\n",
    "from sklearn.preprocessing import OneHotEncoder, StandardScaler\n",
    "from sklearn.experimental import enable_iterative_imputer\n",
    "from sklearn.impute import IterativeImputer\n",
    "from sklearn.pipeline import make_pipeline\n",
    "from sklearn.tree import DecisionTreeClassifier, plot_tree\n",
    "from sklearn.ensemble import RandomForestClassifier\n",
    "\n",
    "# Primero instanciamos las clases\n",
    "one_hot = OneHotEncoder()\n",
    "scaler = StandardScaler()\n",
    "imputer = IterativeImputer()\n",
    "\n",
    "transformer = make_column_transformer(\n",
    "    (one_hot, cat_vars),\n",
    "    (imputer, num_var),\n",
    "    remainder='passthrough',\n",
    "    verbose_feature_names_out=False\n",
    ")\n",
    "\n",
    "arbol_decision = DecisionTreeClassifier(\n",
    "    max_depth=10,\n",
    "    criterion=\"entropy\",\n",
    "    class_weight=\"balanced\",\n",
    "    random_state=2022,\n",
    ")\n",
    "\n",
    "random_forest = RandomForestClassifier(\n",
    "    max_depth=10,\n",
    "    criterion=\"entropy\",\n",
    "    class_weight=\"balanced\",\n",
    "    random_state=2022,\n",
    ")\n",
    "\n",
    "pipeline_arbol_decision = make_pipeline(transformer, arbol_decision)\n",
    "pipeline_random_forest = make_pipeline(transformer, random_forest)\n",
    "\n",
    "pipeline_arbol_decision.fit(x_train, y_train)\n",
    "pipeline_random_forest.fit(x_train,y_train)\n",
    "\n",
    "# Obtener los nombres de las características para el árbol de decisión\n",
    "feature_names = list(transformer.named_transformers_['onehotencoder'].get_feature_names_out(cat_vars))\n",
    "feature_names.extend(num_var)\n",
    "\n",
    "plot_tree(\n",
    "    decision_tree=pipeline_arbol_decision[-1],\n",
    "    filled=True,\n",
    "    rounded=True,\n",
    "    max_depth=2,\n",
    "    feature_names=feature_names,\n",
    "    class_names=[\"Adquiere producto\", \"No adquiere producto\"]\n",
    ")\n"
   ]
  },
  {
   "cell_type": "code",
   "execution_count": 30,
   "metadata": {},
   "outputs": [
    {
     "name": "stdout",
     "output_type": "stream",
     "text": [
      "F1-Score del árbol de decisión: 0.880794701986755\n",
      "F1-Score del bosque aleatorio: 0.9166666666666666\n"
     ]
    }
   ],
   "source": [
    "from sklearn.metrics import f1_score\n",
    "\n",
    "# Calcular las predicciones en el conjunto de prueba para ambos modelos\n",
    "y_pred_arbol_decision = pipeline_arbol_decision.predict(x_test)\n",
    "y_pred_random_forest = pipeline_random_forest.predict(x_test)\n",
    "\n",
    "# Calcular el F1-Score para ambos modelos\n",
    "f1_arbol_decision = f1_score(y_test, y_pred_arbol_decision)\n",
    "f1_random_forest = f1_score(y_test, y_pred_random_forest)\n",
    "\n",
    "print(\"F1-Score del árbol de decisión:\", f1_arbol_decision)\n",
    "print(\"F1-Score del bosque aleatorio:\", f1_random_forest)\n"
   ]
  },
  {
   "cell_type": "markdown",
   "metadata": {},
   "source": [
    "Ahora buscará los mejores hiperparámetros para el modelo Random Forest que acabó de entrenar. Para ello, se sugiere seguir los siguientes pasos:\n",
    "\n",
    "8.a) Use un código similar a pipeline.named_steps.keys() para ver el nombre de cada paso de su pipeline para Random Forest.\n",
    "\n",
    "8.b) Con lo anterior, podrá ver que dentro del pipeline su módelo de arból de decisión tiene el nombre \"randomforestclassifier\". Usted puede extraer el modelo, transformer o preprocesamiento usado usando ese nombre, al igual que un diccionario:"
   ]
  },
  {
   "cell_type": "code",
   "execution_count": 31,
   "metadata": {},
   "outputs": [
    {
     "name": "stdout",
     "output_type": "stream",
     "text": [
      "Nombres de los pasos en el pipeline del modelo Random Forest:\n",
      "columntransformer\n",
      "randomforestclassifier\n"
     ]
    }
   ],
   "source": [
    "# Obtener los nombres de los pasos en el pipeline del modelo Random Forest\n",
    "steps_names = pipeline_random_forest.named_steps.keys()\n",
    "\n",
    "# Imprimir los nombres de los pasos\n",
    "print(\"Nombres de los pasos en el pipeline del modelo Random Forest:\")\n",
    "for name in steps_names:\n",
    "    print(name)\n"
   ]
  },
  {
   "cell_type": "code",
   "execution_count": 33,
   "metadata": {},
   "outputs": [
    {
     "name": "stdout",
     "output_type": "stream",
     "text": [
      "Fitting 5 folds for each of 5 candidates, totalling 25 fits\n",
      "Mejor ccp_alpha: 0.001\n",
      "Mejor F1: 0.9076253094617656\n"
     ]
    }
   ],
   "source": [
    "from sklearn.model_selection import GridSearchCV, KFold\n",
    "\n",
    "# Define los hiperparámetros a buscar, incluyendo \"randomforestclassifier__ccp_alpha\"\n",
    "hiperparametros = {\n",
    "    \"randomforestclassifier__ccp_alpha\": np.logspace(-3, 0, 5)\n",
    "}\n",
    "\n",
    "configuraciones = KFold(n_splits=5, shuffle=True, random_state=2022)\n",
    "\n",
    "# Crea un nuevo modelo de GridSearchCV con el pipeline y los hiperparámetros definidos\n",
    "\n",
    "grid_search_rf = GridSearchCV(pipeline_random_forest, hiperparametros, cv=configuraciones, scoring=\"f1\", verbose=1, n_jobs=-1)\n",
    "\n",
    "# Ajusta el modelo GridSearchCV a tus datos\n",
    "grid_search_rf.fit(x_train, y_train)\n",
    "\n",
    "# Obtiene el mejor valor de ccp_alpha y el mejor F1\n",
    "mejor_ccp_alpha = grid_search_rf.best_params_[\"randomforestclassifier__ccp_alpha\"]\n",
    "mejor_f1 = grid_search_rf.best_score_\n",
    "\n",
    "print(f\"Mejor ccp_alpha: {mejor_ccp_alpha}\")\n",
    "print(f\"Mejor F1: {mejor_f1}\")\n"
   ]
  },
  {
   "cell_type": "markdown",
   "metadata": {},
   "source": [
    "9. Obtenga el reporte de clasificación y gráfique el mejor árbol resultante del proceso anterior. Comente sobre posibles ganancias que se obtienen optimizando el valor de ccp_alpha."
   ]
  },
  {
   "cell_type": "code",
   "execution_count": 42,
   "metadata": {},
   "outputs": [
    {
     "name": "stdout",
     "output_type": "stream",
     "text": [
      "Informe de Clasificación para el Mejor Modelo Random Forest:\n",
      "              precision    recall  f1-score   support\n",
      "\n",
      "           0       0.99      0.99      0.99      1350\n",
      "           1       0.95      0.88      0.91       150\n",
      "\n",
      "    accuracy                           0.98      1500\n",
      "   macro avg       0.97      0.94      0.95      1500\n",
      "weighted avg       0.98      0.98      0.98      1500\n",
      "\n"
     ]
    },
    {
     "data": {
      "text/plain": [
       "'\\n# Grafica el mejor árbol resultante\\nplt.figure(figsize=(10, 10))\\nplot_tree(\\n    decision_tree=mejor_modelo_rf.named_steps[\"randomforestclassifier\"].estimators_[0],\\n    filled=True,\\n    rounded=True,\\n    max_depth=2,\\n    feature_names=feature_names,\\n    class_names=[\"Adquiere producto\", \"No Adquiere producto\"]\\n)\\nplt.show()\\n'"
      ]
     },
     "execution_count": 42,
     "metadata": {},
     "output_type": "execute_result"
    }
   ],
   "source": [
    "from sklearn.metrics import classification_report\n",
    "\n",
    "# Obtén el mejor modelo resultante de la optimización\n",
    "mejor_modelo_rf = grid_search_rf.best_estimator_\n",
    "\n",
    "# Realiza predicciones en el conjunto de prueba\n",
    "y_pred_rf = mejor_modelo_rf.predict(x_test)\n",
    "\n",
    "# Genera un informe de clasificación\n",
    "informe_clasificacion = classification_report(y_test, y_pred_rf)\n",
    "\n",
    "print(\"Informe de Clasificación para el Mejor Modelo Random Forest:\")\n",
    "print(informe_clasificacion)\n",
    "\"\"\"\n",
    "# Grafica el mejor árbol resultante\n",
    "plt.figure(figsize=(10, 10))\n",
    "plot_tree(\n",
    "    decision_tree=mejor_modelo_rf.named_steps[\"randomforestclassifier\"].estimators_[0],\n",
    "    filled=True,\n",
    "    rounded=True,\n",
    "    max_depth=2,\n",
    "    feature_names=feature_names,\n",
    "    class_names=[\"Adquiere producto\", \"No Adquiere producto\"]\n",
    ")\n",
    "plt.show()\n",
    "\"\"\""
   ]
  },
  {
   "cell_type": "code",
   "execution_count": 40,
   "metadata": {},
   "outputs": [
    {
     "ename": "AttributeError",
     "evalue": "'numpy.float64' object has no attribute 'fit'",
     "output_type": "error",
     "traceback": [
      "\u001b[0;31m---------------------------------------------------------------------------\u001b[0m",
      "\u001b[0;31mAttributeError\u001b[0m                            Traceback (most recent call last)",
      "\u001b[1;32m/Users/raimundoschulzehot/Documents/Raimundo/Diplomado/Herraminetas compu/Arboles decision/Arboles_desicion.ipynb Cell 33\u001b[0m line \u001b[0;36m5\n\u001b[1;32m      <a href='vscode-notebook-cell:/Users/raimundoschulzehot/Documents/Raimundo/Diplomado/Herraminetas%20compu/Arboles%20decision/Arboles_desicion.ipynb#X55sZmlsZQ%3D%3D?line=1'>2</a>\u001b[0m \u001b[39mfrom\u001b[39;00m \u001b[39msklearn\u001b[39;00m\u001b[39m.\u001b[39;00m\u001b[39mtree\u001b[39;00m \u001b[39mimport\u001b[39;00m plot_tree\n\u001b[1;32m      <a href='vscode-notebook-cell:/Users/raimundoschulzehot/Documents/Raimundo/Diplomado/Herraminetas%20compu/Arboles%20decision/Arboles_desicion.ipynb#X55sZmlsZQ%3D%3D?line=3'>4</a>\u001b[0m \u001b[39m# Ajusta el mejor modelo al conjunto de entrenamiento\u001b[39;00m\n\u001b[0;32m----> <a href='vscode-notebook-cell:/Users/raimundoschulzehot/Documents/Raimundo/Diplomado/Herraminetas%20compu/Arboles%20decision/Arboles_desicion.ipynb#X55sZmlsZQ%3D%3D?line=4'>5</a>\u001b[0m mejor_ccp_alpha\u001b[39m.\u001b[39;49mfit(x_train, y_train)\n\u001b[1;32m      <a href='vscode-notebook-cell:/Users/raimundoschulzehot/Documents/Raimundo/Diplomado/Herraminetas%20compu/Arboles%20decision/Arboles_desicion.ipynb#X55sZmlsZQ%3D%3D?line=6'>7</a>\u001b[0m \u001b[39m# Realiza predicciones en el conjunto de prueba\u001b[39;00m\n\u001b[1;32m      <a href='vscode-notebook-cell:/Users/raimundoschulzehot/Documents/Raimundo/Diplomado/Herraminetas%20compu/Arboles%20decision/Arboles_desicion.ipynb#X55sZmlsZQ%3D%3D?line=7'>8</a>\u001b[0m y_pred_rf \u001b[39m=\u001b[39m mejor_ccp_alpha\u001b[39m.\u001b[39mpredict(x_test)\n",
      "\u001b[0;31mAttributeError\u001b[0m: 'numpy.float64' object has no attribute 'fit'"
     ]
    }
   ],
   "source": [
    "from sklearn.metrics import classification_report\n",
    "from sklearn.tree import plot_tree\n",
    "\n",
    "# Ajusta el mejor modelo al conjunto de entrenamiento\n",
    "mejor_ccp_alpha.fit(x_train, y_train)\n",
    "\n",
    "# Realiza predicciones en el conjunto de prueba\n",
    "y_pred_rf = mejor_ccp_alpha.predict(x_test)\n",
    "\n",
    "# Genera un informe de clasificación\n",
    "print(\"Informe de Clasificación para el Mejor Modelo Random Forest:\")\n",
    "print(classification_report(y_test, y_pred_rf))\n",
    "\n",
    "# Grafica el mejor árbol resultante\n",
    "plt.figure(figsize=(10, 10))\n",
    "plot_tree(\n",
    "    decision_tree=mejor_ccp_alpha[1].estimators_[0],  # Asegúrate de que esta parte es correcta\n",
    "    filled=True,\n",
    "    rounded=True,\n",
    "    feature_names=x_train.columns,  # Asegúrate de que x_train sea tu conjunto de entrenamiento\n",
    "    class_names=[\"Adquiere producto\", \"No adquiere producto\"],\n",
    ")\n",
    "plt.show()\n"
   ]
  }
 ],
 "metadata": {
  "kernelspec": {
   "display_name": "diplomado",
   "language": "python",
   "name": "python3"
  },
  "language_info": {
   "codemirror_mode": {
    "name": "ipython",
    "version": 3
   },
   "file_extension": ".py",
   "mimetype": "text/x-python",
   "name": "python",
   "nbconvert_exporter": "python",
   "pygments_lexer": "ipython3",
   "version": "3.9.12"
  }
 },
 "nbformat": 4,
 "nbformat_minor": 2
}
